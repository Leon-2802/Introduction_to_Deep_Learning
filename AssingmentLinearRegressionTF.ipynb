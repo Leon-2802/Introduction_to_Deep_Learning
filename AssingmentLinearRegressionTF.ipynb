{
  "cells": [
    {
      "cell_type": "markdown",
      "metadata": {
        "id": "_lIBothiAZPU"
      },
      "source": [
        "# ColabLinearRegresionTensorFlow (DUE 12. November)\n",
        "In this Colab you will implement linear regression with Tensorflow-Keras [tf.keras](https://www.tensorflow.org/guide/keras), a high level library for machine learning"
      ]
    },
    {
      "cell_type": "code",
      "execution_count": 1,
      "metadata": {
        "colab": {
          "base_uri": "https://localhost:8080/"
        },
        "id": "ulnxEN8KJW5z",
        "outputId": "d96acbb7-9932-4911-d6b7-2fa94481ef57"
      },
      "outputs": [
        {
          "ename": "ModuleNotFoundError",
          "evalue": "No module named 'numpy'",
          "output_type": "error",
          "traceback": [
            "\u001b[1;31m---------------------------------------------------------------------------\u001b[0m",
            "\u001b[1;31mModuleNotFoundError\u001b[0m                       Traceback (most recent call last)",
            "Cell \u001b[1;32mIn [1], line 1\u001b[0m\n\u001b[1;32m----> 1\u001b[0m \u001b[39mimport\u001b[39;00m \u001b[39mnumpy\u001b[39;00m \u001b[39mas\u001b[39;00m \u001b[39mnp\u001b[39;00m\n\u001b[0;32m      2\u001b[0m \u001b[39mimport\u001b[39;00m \u001b[39mmatplotlib\u001b[39;00m\u001b[39m.\u001b[39;00m\u001b[39mpyplot\u001b[39;00m \u001b[39mas\u001b[39;00m \u001b[39mplt\u001b[39;00m\n\u001b[0;32m      3\u001b[0m \u001b[39mimport\u001b[39;00m \u001b[39msklearn\u001b[39;00m\n",
            "\u001b[1;31mModuleNotFoundError\u001b[0m: No module named 'numpy'"
          ]
        }
      ],
      "source": [
        "import numpy as np\n",
        "import matplotlib.pyplot as plt\n",
        "import sklearn\n",
        "\n",
        "import seaborn as sns\n",
        "import tensorflow as tf\n",
        "sns.set_style(\"whitegrid\")\n",
        "sns.set_context(\"poster\")\n",
        "\n",
        "\n",
        "from keras.datasets import boston_housing\n",
        "(X_train, y_train), (X_test, y_test) = boston_housing.load_data()"
      ]
    },
    {
      "cell_type": "code",
      "execution_count": null,
      "metadata": {
        "colab": {
          "base_uri": "https://localhost:8080/"
        },
        "id": "1MqNVh4XJmjp",
        "outputId": "01780adb-e5d3-49ed-d963-0dd94053182e"
      },
      "outputs": [
        {
          "name": "stdout",
          "output_type": "stream",
          "text": [
            "(404, 13) (102, 13)\n"
          ]
        }
      ],
      "source": [
        "print(np.shape(X_train), np.shape(X_test))"
      ]
    },
    {
      "cell_type": "code",
      "execution_count": null,
      "metadata": {
        "id": "POMa8pkZJw0h"
      },
      "outputs": [],
      "source": [
        "#perform data normalization\n",
        "mu = np.mean(X_train,axis=0)\n",
        "sigma = np.std(X_train,axis=0)\n",
        "X_train = (X_train - mu)/sigma\n",
        "mu = np.mean(X_test,axis=0)\n",
        "sigma = np.std(X_test,axis=0)\n",
        "X_test = (X_test - mu)/sigma\n",
        "\n",
        "\n"
      ]
    },
    {
      "cell_type": "markdown",
      "metadata": {
        "id": "ydkwDCr0EhBf"
      },
      "source": [
        "### To perform the linear regression task, use the sequential Model of Keras. Check out:\n",
        "[tf.keras.Sequential](https://www.tensorflow.org/guide/keras/sequential_model?hl=de).\n",
        "\n",
        "Fill into your model an input with shape (13,1), the bias term `=[column of ones]` is added automatically, you don't need to do it here. \n",
        "\n",
        "Finally add a dense layer [tf.keras.layers.Dense](https://www.tensorflow.org/api_docs/python/tf/keras/layers/Dense?hl=de) with output of 1. The output is a scalar, the price of a house, therefore it has a dimension of 1. **(10 Pts)**"
      ]
    },
    {
      "cell_type": "code",
      "execution_count": null,
      "metadata": {
        "id": "1wyzcT-vNXlh"
      },
      "outputs": [],
      "source": [
        "house_model = #your code here"
      ]
    },
    {
      "cell_type": "markdown",
      "metadata": {
        "id": "R1C2IKRqG7eo"
      },
      "source": [
        "### Use the method [compile](https://www.tensorflow.org/api_docs/python/tf/keras/Model#compile) for your model that you created with tf.keras.Sequential. Use the [stochastic gradient descent optimizer](https://www.tensorflow.org/api_docs/python/tf/keras/optimizers/SGD) with learning rate = 0.0001 and as a loss the mean squared error. **(10 Pts)**\n"
      ]
    },
    {
      "cell_type": "code",
      "execution_count": null,
      "metadata": {
        "id": "HF97f-bI3-M7"
      },
      "outputs": [],
      "source": [
        "house_model.compile(#your code  here)\n",
        "              "
      ]
    },
    {
      "cell_type": "markdown",
      "metadata": {
        "id": "cfudPr_UQk7B"
      },
      "source": [
        "### Use the method [fit](https://www.tensorflow.org/api_docs/python/tf/keras/Model#fit) to train the model. Pass X_train, y_train, a batch_size of 1 and train for 1000 epochs. **(10 Pts)**"
      ]
    },
    {
      "cell_type": "code",
      "execution_count": null,
      "metadata": {
        "id": "nTNXskW-3TH3"
      },
      "outputs": [],
      "source": [
        "house_model.fit(#your code here)"
      ]
    },
    {
      "cell_type": "markdown",
      "metadata": {
        "id": "A32YHGL5RCc9"
      },
      "source": [
        "Estimate the parameters with the normal equation as you did in the LinearRegression.ipynb to have the optimal ones."
      ]
    },
    {
      "cell_type": "markdown",
      "metadata": {
        "id": "4OtYJN0sqQnE"
      },
      "source": []
    },
    {
      "cell_type": "code",
      "execution_count": null,
      "metadata": {
        "colab": {
          "base_uri": "https://localhost:8080/"
        },
        "id": "80YALOVvq4X8",
        "outputId": "e7d35a11-3333-43c5-8954-187c9f66df3c"
      },
      "outputs": [
        {
          "name": "stdout",
          "output_type": "stream",
          "text": [
            "[-1.10749194  1.35308963  0.02710126  0.9943535  -2.40156557  2.3962877\n",
            "  0.2111952  -3.47121628  2.90814885 -1.95741889 -1.98298545  0.81955092\n",
            " -4.02739073]\n"
          ]
        }
      ],
      "source": [
        "opt = #the result that you should get is displayed below\n",
        "print(opt)"
      ]
    },
    {
      "cell_type": "markdown",
      "metadata": {
        "id": "0AG5htMrSsr5"
      },
      "source": [
        "### Use the method summary and display the trainable_weights to compare with the optimum."
      ]
    },
    {
      "cell_type": "code",
      "execution_count": null,
      "metadata": {
        "colab": {
          "base_uri": "https://localhost:8080/"
        },
        "id": "Xmh5R8qmrIrP",
        "outputId": "f1c138e1-5eff-4806-b216-51238a978965"
      },
      "outputs": [
        {
          "name": "stdout",
          "output_type": "stream",
          "text": [
            "Model: \"sequential\"\n",
            "_________________________________________________________________\n",
            "Layer (type)                 Output Shape              Param #   \n",
            "=================================================================\n",
            "dense (Dense)                (None, 1)                 14        \n",
            "=================================================================\n",
            "Total params: 14\n",
            "Trainable params: 14\n",
            "Non-trainable params: 0\n",
            "_________________________________________________________________\n"
          ]
        },
        {
          "data": {
            "text/plain": [
              "[<tf.Variable 'dense/kernel:0' shape=(13, 1) dtype=float32, numpy=\n",
              " array([[-1.108419  ],\n",
              "        [ 1.3560442 ],\n",
              "        [ 0.02675533],\n",
              "        [ 0.99434495],\n",
              "        [-2.4050415 ],\n",
              "        [ 2.3935165 ],\n",
              "        [ 0.21119349],\n",
              "        [-3.4716609 ],\n",
              "        [ 2.9083986 ],\n",
              "        [-1.9577723 ],\n",
              "        [-1.9843324 ],\n",
              "        [ 0.81886804],\n",
              "        [-4.0268145 ]], dtype=float32)>,\n",
              " <tf.Variable 'dense/bias:0' shape=(1,) dtype=float32, numpy=array([22.398413], dtype=float32)>]"
            ]
          },
          "execution_count": 17,
          "metadata": {
            "tags": []
          },
          "output_type": "execute_result"
        }
      ],
      "source": [
        "house_model.summary()\n",
        "house_model.trainable_weights\n",
        "#the result that you should get is displayed below"
      ]
    },
    {
      "cell_type": "markdown",
      "metadata": {
        "id": "I35E7ktVeV-T"
      },
      "source": [
        "### Use the [predict](https://www.tensorflow.org/api_docs/python/tf/keras/Model#predict) method of your model to predict the prices for your test dataset.**(10 Pts)**"
      ]
    },
    {
      "cell_type": "code",
      "execution_count": null,
      "metadata": {
        "id": "ZLFpQhDth0h0"
      },
      "outputs": [],
      "source": [
        "y_hat = house_model.predict(#code)\n"
      ]
    },
    {
      "cell_type": "code",
      "execution_count": null,
      "metadata": {
        "colab": {
          "base_uri": "https://localhost:8080/"
        },
        "id": "kpL_-_MYRzdS",
        "outputId": "284398d1-2f65-4fef-b6c2-0cc0dcbc472f"
      },
      "outputs": [
        {
          "name": "stdout",
          "output_type": "stream",
          "text": [
            "(102, 1) [[ 5.552294 ]\n",
            " [20.012117 ]\n",
            " [20.56017  ]\n",
            " [32.825653 ]\n",
            " [25.653189 ]\n",
            " [19.462118 ]\n",
            " [29.292355 ]\n",
            " [25.393373 ]\n",
            " [18.772715 ]\n",
            " [21.693714 ]\n",
            " [18.904669 ]\n",
            " [17.19595  ]\n",
            " [14.763304 ]\n",
            " [35.363068 ]\n",
            " [16.942364 ]\n",
            " [20.201393 ]\n",
            " [24.821566 ]\n",
            " [21.406654 ]\n",
            " [18.733341 ]\n",
            " [21.494076 ]\n",
            " [ 9.015453 ]\n",
            " [14.228059 ]\n",
            " [21.773548 ]\n",
            " [13.206315 ]\n",
            " [22.94502  ]\n",
            " [22.95884  ]\n",
            " [32.30917  ]\n",
            " [27.012592 ]\n",
            " [10.296214 ]\n",
            " [21.239685 ]\n",
            " [22.753172 ]\n",
            " [16.536167 ]\n",
            " [35.961308 ]\n",
            " [23.617268 ]\n",
            " [16.90067  ]\n",
            " [ 1.4789467]\n",
            " [11.909952 ]\n",
            " [21.84971  ]\n",
            " [14.9836235]\n",
            " [28.799515 ]\n",
            " [23.451944 ]\n",
            " [28.437408 ]\n",
            " [15.538147 ]\n",
            " [34.889645 ]\n",
            " [30.941845 ]\n",
            " [24.036383 ]\n",
            " [30.954752 ]\n",
            " [17.314884 ]\n",
            " [21.289381 ]\n",
            " [23.858099 ]\n",
            " [32.566036 ]\n",
            " [18.864628 ]\n",
            " [ 7.3918924]\n",
            " [12.513369 ]\n",
            " [35.32798  ]\n",
            " [27.585148 ]\n",
            " [15.21917  ]\n",
            " [40.227882 ]\n",
            " [37.325447 ]\n",
            " [24.686022 ]\n",
            " [24.582315 ]\n",
            " [18.473253 ]\n",
            " [17.3308   ]\n",
            " [20.333931 ]\n",
            " [24.514103 ]\n",
            " [25.462658 ]\n",
            " [15.174288 ]\n",
            " [28.004581 ]\n",
            " [ 1.6209717]\n",
            " [ 7.784625 ]\n",
            " [21.983149 ]\n",
            " [25.199234 ]\n",
            " [22.645126 ]\n",
            " [ 6.5926037]\n",
            " [29.180386 ]\n",
            " [21.256727 ]\n",
            " [20.92509  ]\n",
            " [24.459747 ]\n",
            " [34.594437 ]\n",
            " [ 3.313919 ]\n",
            " [24.01611  ]\n",
            " [36.600937 ]\n",
            " [16.635572 ]\n",
            " [15.7698345]\n",
            " [19.887178 ]\n",
            " [18.781757 ]\n",
            " [20.102676 ]\n",
            " [24.42553  ]\n",
            " [22.407125 ]\n",
            " [28.25554  ]\n",
            " [17.14834  ]\n",
            " [18.007431 ]\n",
            " [27.429703 ]\n",
            " [29.915865 ]\n",
            " [35.53226  ]\n",
            " [18.553959 ]\n",
            " [35.96887  ]\n",
            " [36.997528 ]\n",
            " [25.176487 ]\n",
            " [40.638496 ]\n",
            " [33.44893  ]\n",
            " [24.26665  ]]\n"
          ]
        }
      ],
      "source": [
        "print(np.shape(y_hat), y_hat)\n",
        "#result is displayed below"
      ]
    },
    {
      "cell_type": "markdown",
      "metadata": {
        "id": "MoW9fu8klRbT"
      },
      "source": [
        "Plot the estimated prices by your model vs real prices."
      ]
    },
    {
      "cell_type": "code",
      "execution_count": null,
      "metadata": {
        "colab": {
          "base_uri": "https://localhost:8080/",
          "height": 363
        },
        "id": "XhQ7bqjUaIz_",
        "outputId": "a652aff1-dd4f-4320-bc6a-03b58c8eb67d"
      },
      "outputs": [
        {
          "data": {
            "text/plain": [
              "Text(0.5, 1.0, 'Prices vs Predicted prices: $y_i$ vs $\\\\hat{y}_i$')"
            ]
          },
          "execution_count": 11,
          "metadata": {
            "tags": []
          },
          "output_type": "execute_result"
        },
        {
          "data": {
            "image/png": "[encoded data removed]",
            "text/plain": [
              "<Figure size 432x288 with 1 Axes>"
            ]
          },
          "metadata": {
            "needs_background": "light",
            "tags": []
          },
          "output_type": "display_data"
        }
      ],
      "source": [
        "plt.scatter(y_test, y_hat)\n",
        "plt.xlabel(\"Prices: $y_i$\")\n",
        "plt.ylabel(\"Predicted prices: $\\hat{y}_i$\")\n",
        "plt.title(\"Prices vs Predicted prices: $y_i$ vs $\\hat{y}_i$\")\n",
        "#result that you should get is displayed below"
      ]
    }
  ],
  "metadata": {
    "colab": {
      "provenance": [],
      "toc_visible": true
    },
    "kernelspec": {
      "display_name": "Python 3.9.13 64-bit (microsoft store)",
      "language": "python",
      "name": "python3"
    },
    "language_info": {
      "codemirror_mode": {
        "name": "ipython",
        "version": 3
      },
      "file_extension": ".py",
      "mimetype": "text/x-python",
      "name": "python",
      "nbconvert_exporter": "python",
      "pygments_lexer": "ipython3",
      "version": "3.9.13"
    },
    "vscode": {
      "interpreter": {
        "hash": "cc87ad30a0a961ab63b9d9add603c70a986ad67b72dbdb1db73167114a957a61"
      }
    }
  },
  "nbformat": 4,
  "nbformat_minor": 0
}
